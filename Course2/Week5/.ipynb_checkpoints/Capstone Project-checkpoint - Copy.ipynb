{
 "cells": [
  {
   "cell_type": "markdown",
   "metadata": {},
   "source": [
    "# Capstone Project\n",
    "## Neural translation model\n",
    "### Instructions\n",
    "\n",
    "In this notebook, you will create a neural network that translates from English to German. You will use concepts from throughout this course, including building more flexible model architectures, freezing layers, data processing pipeline and sequence modelling.\n",
    "\n",
    "This project is peer-assessed. Within this notebook you will find instructions in each section for how to complete the project. Pay close attention to the instructions as the peer review will be carried out according to a grading rubric that checks key parts of the project instructions. Feel free to add extra cells into the notebook as required.\n",
    "\n",
    "### How to submit\n",
    "\n",
    "When you have completed the Capstone project notebook, you will submit a pdf of the notebook for peer review. First ensure that the notebook has been fully executed from beginning to end, and all of the cell outputs are visible. This is important, as the grading rubric depends on the reviewer being able to view the outputs of your notebook. Save the notebook as a pdf (File -> Download as -> PDF via LaTeX). You should then submit this pdf for review.\n",
    "\n",
    "### Let's get started!\n",
    "\n",
    "We'll start by running some imports, and loading the dataset. For this project you are free to make further imports throughout the notebook as you wish. "
   ]
  },
  {
   "cell_type": "code",
   "execution_count": 1,
   "metadata": {},
   "outputs": [],
   "source": [
    "import tensorflow as tf\n",
    "import tensorflow_hub as hub\n",
    "import unicodedata\n",
    "import re\n",
    "from IPython.display import Image\n",
    "# for splitting sentences \n",
    "import re\n",
    "# for finding random samples\n",
    "import random\n",
    "from tensorflow.keras.layers import Layer, concatenate, Input, Masking, LSTM, Embedding, Dense\n",
    "from tensorflow.keras.models import Model\n",
    "import matplotlib.pyplot as plt\n",
    "import numpy as np\n"
   ]
  },
  {
   "cell_type": "markdown",
   "metadata": {},
   "source": [
    "![Flags overview image](data/germany_uk_flags.png)\n",
    "\n",
    "For the capstone project, you will use a language dataset from http://www.manythings.org/anki/ to build a neural translation model. This dataset consists of over 200,000 pairs of sentences in English and German. In order to make the training quicker, we will restrict to our dataset to 20,000 pairs. Feel free to change this if you wish - the size of the dataset used is not part of the grading rubric.\n",
    "\n",
    "Your goal is to develop a neural translation model from English to German, making use of a pre-trained English word embedding module."
   ]
  },
  {
   "cell_type": "code",
   "execution_count": 2,
   "metadata": {},
   "outputs": [],
   "source": [
    "# Run this cell to load the dataset\n",
    "\n",
    "NUM_EXAMPLES = 20000\n",
    "data_examples = []\n",
    "with open('data/deu.txt', 'r', encoding='utf8') as f:\n",
    "    for line in f.readlines():\n",
    "        if len(data_examples) < NUM_EXAMPLES:\n",
    "            data_examples.append(line)\n",
    "        else:\n",
    "            break\n",
    "            "
   ]
  },
  {
   "cell_type": "code",
   "execution_count": 3,
   "metadata": {},
   "outputs": [],
   "source": [
    "# These functions preprocess English and German sentences\n",
    "\n",
    "def unicode_to_ascii(s):\n",
    "    return ''.join(c for c in unicodedata.normalize('NFD', s) if unicodedata.category(c) != 'Mn')\n",
    "\n",
    "def preprocess_sentence(sentence):\n",
    "    sentence = sentence.lower().strip()\n",
    "    sentence = re.sub(r\"ü\", 'ue', sentence)\n",
    "    sentence = re.sub(r\"ä\", 'ae', sentence)\n",
    "    sentence = re.sub(r\"ö\", 'oe', sentence)\n",
    "    sentence = re.sub(r'ß', 'ss', sentence)\n",
    "    \n",
    "    sentence = unicode_to_ascii(sentence)\n",
    "    sentence = re.sub(r\"([?.!,])\", r\" \\1 \", sentence)\n",
    "    sentence = re.sub(r\"[^a-z?.!,']+\", \" \", sentence)\n",
    "    sentence = re.sub(r'[\" \"]+', \" \", sentence)\n",
    "    \n",
    "    return sentence.strip()"
   ]
  },
  {
   "cell_type": "markdown",
   "metadata": {},
   "source": [
    "#### The custom translation model\n",
    "The following is a schematic of the custom translation model architecture you will develop in this project.\n",
    "\n",
    "![Model Schematic](data/neural_translation_model.png)\n",
    "\n",
    "Key:\n",
    "![Model key](data/neural_translation_model_key.png)\n",
    "\n",
    "The custom model consists of an encoder RNN and a decoder RNN. The encoder takes words of an English sentence as input, and uses a pre-trained word embedding to embed the words into a 128-dimensional space. To indicate the end of the input sentence, a special end token (in the same 128-dimensional space) is passed in as an input. This token is a TensorFlow Variable that is learned in the training phase (unlike the pre-trained word embedding, which is frozen).\n",
    "\n",
    "The decoder RNN takes the internal state of the encoder network as its initial state. A start token is passed in as the first input, which is embedded using a learned German word embedding. The decoder RNN then makes a prediction for the next German word, which during inference is then passed in as the following input, and this process is repeated until the special `<end>` token is emitted from the decoder."
   ]
  },
  {
   "cell_type": "markdown",
   "metadata": {},
   "source": [
    "## 1. Text preprocessing\n",
    "* Create separate lists of English and German sentences, and preprocess them using the `preprocess_sentence` function provided for you above.\n",
    "* Add a special `\"<start>\"` and `\"<end>\"` token to the beginning and end of every German sentence.\n",
    "* Use the Tokenizer class from the `tf.keras.preprocessing.text` module to tokenize the German sentences, ensuring that no character filters are applied. _Hint: use the Tokenizer's \"filter\" keyword argument._\n",
    "* Print out at least 5 randomly chosen examples of (preprocessed) English and German sentence pairs. For the German sentence, print out the text (with start and end tokens) as well as the tokenized sequence.\n",
    "* Pad the end of the tokenized German sequences with zeros, and batch the complete set of sequences into one numpy array."
   ]
  },
  {
   "cell_type": "code",
   "execution_count": 4,
   "metadata": {
    "scrolled": true
   },
   "outputs": [
    {
     "name": "stdout",
     "output_type": "stream",
     "text": [
      "English:  20000\n",
      "German:  20000\n"
     ]
    }
   ],
   "source": [
    "import numpy as np\n",
    "\n",
    "English = []\n",
    "German  = []\n",
    "\n",
    "for sentence in data_examples:\n",
    "    s = sentence.split('\\t')\n",
    "\n",
    "    s[0] = preprocess_sentence(s[0])\n",
    "    s[1] = preprocess_sentence(s[1])\n",
    "    \n",
    "    English.append(s[0])\n",
    "    German.append(\"<start> \" + s[1] + \" <end>\")\n",
    "    \n",
    "English = np.asarray(English)\n",
    "German = np.asarray(German)\n",
    "print(\"English: \", len(English))\n",
    "print(\"German: \", len(German))\n"
   ]
  },
  {
   "cell_type": "code",
   "execution_count": 5,
   "metadata": {},
   "outputs": [],
   "source": [
    "tokenizer = tf.keras.preprocessing.text.Tokenizer(filters = '')\n",
    "tokenizer.fit_on_texts(German)    \n",
    "sequences = tokenizer.texts_to_sequences(German)\n",
    "sequences = tf.keras.preprocessing.sequence.pad_sequences(sequences, padding='post')"
   ]
  },
  {
   "cell_type": "code",
   "execution_count": 6,
   "metadata": {},
   "outputs": [
    {
     "name": "stdout",
     "output_type": "stream",
     "text": [
      "English:  i'm . \n",
      " German:  <start> ich bin . <end> \n",
      " Embedding:  [ 1  4 15  3  2  0  0  0  0  0  0  0  0  0] \n",
      "\n",
      "English:  don't be afraid . \n",
      " German:  <start> habe keine angst . <end> \n",
      " Embedding:  [  1  18 103 190   3   2   0   0   0   0   0   0   0   0] \n",
      "\n",
      "English:  he made her cry . \n",
      " German:  <start> er brachte sie zum weinen . <end> \n",
      " Embedding:  [  1  14 779   8 198 196   3   2   0   0   0   0   0   0] \n",
      "\n",
      "English:  tom is contented . \n",
      " German:  <start> tom ist zufrieden . <end> \n",
      " Embedding:  [  1   5   6 508   3   2   0   0   0   0   0   0   0   0] \n",
      "\n",
      "English:  tom isn't hurt . \n",
      " German:  <start> tom ist unversehrt . <end> \n",
      " Embedding:  [   1    5    6 2764    3    2    0    0    0    0    0    0    0    0] \n",
      "\n"
     ]
    }
   ],
   "source": [
    "elements = random.sample(range(len(German)), 5)\n",
    "\n",
    "for element in elements:\n",
    "    print('English: ', English[element], '\\n', \n",
    "          'German: ', German[element], '\\n', \n",
    "          'Embedding: ', sequences[element], '\\n')"
   ]
  },
  {
   "cell_type": "code",
   "execution_count": null,
   "metadata": {},
   "outputs": [],
   "source": []
  },
  {
   "cell_type": "code",
   "execution_count": null,
   "metadata": {},
   "outputs": [],
   "source": []
  },
  {
   "cell_type": "code",
   "execution_count": null,
   "metadata": {},
   "outputs": [],
   "source": []
  },
  {
   "cell_type": "markdown",
   "metadata": {},
   "source": [
    "## 2. Prepare the data with tf.data.Dataset objects"
   ]
  },
  {
   "cell_type": "markdown",
   "metadata": {},
   "source": [
    "#### Load the embedding layer\n",
    "As part of the dataset preproceessing for this project, you will use a pre-trained English word embedding module from TensorFlow Hub. The URL for the module is https://tfhub.dev/google/tf2-preview/nnlm-en-dim128-with-normalization/1. This module has also been made available as a complete saved model in the folder `'./models/tf2-preview_nnlm-en-dim128_1'`. \n",
    "\n",
    "This embedding takes a batch of text tokens in a 1-D tensor of strings as input. It then embeds the separate tokens into a 128-dimensional space. \n",
    "\n",
    "The code to load and test the embedding layer is provided for you below.\n",
    "\n",
    "**NB:** this model can also be used as a sentence embedding module. The module will process each token by removing punctuation and splitting on spaces. It then averages the word embeddings over a sentence to give a single embedding vector. However, we will use it only as a word embedding module, and will pass each word in the input sentence as a separate token."
   ]
  },
  {
   "cell_type": "code",
   "execution_count": 7,
   "metadata": {},
   "outputs": [],
   "source": [
    "# Load embedding module from Tensorflow Hub\n",
    "\n",
    "embedding_layer = hub.KerasLayer(\"./models/tf2-preview_nnlm-en-dim128_1\",  \n",
    "                                 output_shape=[128], input_shape=[], dtype=tf.string)"
   ]
  },
  {
   "cell_type": "code",
   "execution_count": 8,
   "metadata": {},
   "outputs": [
    {
     "data": {
      "text/plain": [
       "TensorShape([7, 128])"
      ]
     },
     "execution_count": 8,
     "metadata": {},
     "output_type": "execute_result"
    }
   ],
   "source": [
    "# Test the layer\n",
    "\n",
    "embedding_layer(tf.constant([\"these\", \"aren't\", \"the\", \"droids\", \"you're\", \"looking\", \"for\"])).shape"
   ]
  },
  {
   "cell_type": "markdown",
   "metadata": {},
   "source": [
    "You should now prepare the training and validation Datasets.\n",
    "\n",
    "* Create a random training and validation set split of the data, reserving e.g. 20% of the data for validation (NB: each English dataset example is a single sentence string, and each German dataset example is a sequence of padded integer tokens).\n",
    "* Load the training and validation sets into a tf.data.Dataset object, passing in a tuple of English and German data for both training and validation sets.\n",
    "* Create a function to map over the datasets that splits each English sentence at spaces. Apply this function to both Dataset objects using the map method. _Hint: look at the tf.strings.split function._\n",
    "* Create a function to map over the datasets that embeds each sequence of English words using the loaded embedding layer/model. Apply this function to both Dataset objects using the map method.\n",
    "* Create a function to filter out dataset examples where the English sentence is more than 13 (embedded) tokens in length. Apply this function to both Dataset objects using the filter method.\n",
    "* Create a function to map over the datasets that pads each English sequence of embeddings with some distinct padding value before the sequence, so that each sequence is length 13. Apply this function to both Dataset objects using the map method. _Hint: look at the tf.pad function. You can extract a Tensor shape using tf.shape; you might also find the tf.math.maximum function useful._\n",
    "* Batch both training and validation Datasets with a batch size of 16.\n",
    "* Print the `element_spec` property for the training and validation Datasets. \n",
    "* Using the Dataset `.take(1)` method, print the shape of the English data example from the training Dataset.\n",
    "* Using the Dataset `.take(1)` method, print the German data example Tensor from the validation Dataset."
   ]
  },
  {
   "cell_type": "code",
   "execution_count": 9,
   "metadata": {},
   "outputs": [],
   "source": [
    "import numpy as np\n",
    "from sklearn.model_selection import train_test_split"
   ]
  },
  {
   "cell_type": "code",
   "execution_count": 10,
   "metadata": {},
   "outputs": [],
   "source": [
    "# 80% Train / 20% Validation\n",
    "size = int(0.8*len(English))\n",
    "\n",
    "# Shuffle indices to randomly get training and validation indices\n",
    "indices = np.random.permutation(len(English))\n",
    "training_idx, val_idx = indices[:size], indices[size:]\n",
    "\n",
    "#Get train/val sets for English sentences and German sequences\n",
    "train_E, val_E = English[training_idx], English[val_idx]\n",
    "train_seq, val_seq = sequences[training_idx], sequences[val_idx]\n"
   ]
  },
  {
   "cell_type": "code",
   "execution_count": 11,
   "metadata": {},
   "outputs": [],
   "source": [
    "#Create Dataset\n",
    "train_dataset = tf.data.Dataset.from_tensor_slices((train_E, train_seq))\n",
    "val_dataset = tf.data.Dataset.from_tensor_slices((val_E, val_seq))\n"
   ]
  },
  {
   "cell_type": "code",
   "execution_count": 12,
   "metadata": {},
   "outputs": [],
   "source": [
    "#Split sentences on spaces\n",
    "def split_spaces(sentence, sequence):\n",
    "    s = tf.strings.split(sentence)\n",
    "    \n",
    "    return s, sequence\n",
    "\n",
    "train_dataset = train_dataset.map(split_spaces)\n",
    "val_dataset = val_dataset.map(split_spaces)\n"
   ]
  },
  {
   "cell_type": "code",
   "execution_count": 13,
   "metadata": {},
   "outputs": [],
   "source": [
    "#Use embedding layer from hub to encode word list\n",
    "def embed(word_list, sequence):\n",
    "    e = embedding_layer(word_list)\n",
    "    \n",
    "    return e, sequence\n",
    "\n",
    "train_dataset = train_dataset.map(embed)\n",
    "val_dataset = val_dataset.map(embed)\n"
   ]
  },
  {
   "cell_type": "code",
   "execution_count": null,
   "metadata": {},
   "outputs": [
    {
     "name": "stdout",
     "output_type": "stream",
     "text": [
      "Training Dataset: \n",
      "(TensorSpec(shape=(None, 128), dtype=tf.float32, name=None), TensorSpec(shape=(14,), dtype=tf.int32, name=None))\n",
      "Validation Dataset: \n",
      "(TensorSpec(shape=(None, 128), dtype=tf.float32, name=None), TensorSpec(shape=(14,), dtype=tf.int32, name=None))\n"
     ]
    }
   ],
   "source": [
    "#Filter out English sequences longer than 13\n",
    "train_dataset = train_dataset.filter(lambda x,_: len(x)<13)\n",
    "val_dataset = val_dataset.filter(lambda x,_: len(x)<13)  \n",
    "\n",
    "print(\"Training Dataset: \")\n",
    "print(train_dataset.element_spec)\n",
    "print(\"Validation Dataset: \")\n",
    "print(val_dataset.element_spec)"
   ]
  },
  {
   "cell_type": "code",
   "execution_count": null,
   "metadata": {},
   "outputs": [],
   "source": [
    "#Pad English Sequences to length 13\n",
    "def pad_seq(eng_seq, ger_seq):\n",
    "    \n",
    "    #Find sequence length\n",
    "    paddings = [[13-len(eng_seq),0],[0,0]]\n",
    "\n",
    "    p = tf.pad(eng_seq, paddings=paddings, constant_values=0)\n",
    "        \n",
    "    return p, ger_seq\n",
    "        \n",
    "    \n",
    "train_dataset = train_dataset.map(pad_seq)\n",
    "val_dataset = val_dataset.map(pad_seq) "
   ]
  },
  {
   "cell_type": "code",
   "execution_count": null,
   "metadata": {},
   "outputs": [],
   "source": [
    "train_dataset = train_dataset.batch(16, drop_remainder=False)\n",
    "val_dataset = val_dataset.batch(16, drop_remainder=False)\n"
   ]
  },
  {
   "cell_type": "code",
   "execution_count": null,
   "metadata": {
    "scrolled": true
   },
   "outputs": [
    {
     "name": "stdout",
     "output_type": "stream",
     "text": [
      "Training Dataset: \n",
      "(TensorSpec(shape=(None, None, 128), dtype=tf.float32, name=None), TensorSpec(shape=(None, 14), dtype=tf.int32, name=None))\n",
      "Validation Dataset: \n",
      "(TensorSpec(shape=(None, None, 128), dtype=tf.float32, name=None), TensorSpec(shape=(None, 14), dtype=tf.int32, name=None))\n"
     ]
    }
   ],
   "source": [
    "print(\"Training Dataset: \")\n",
    "print(train_dataset.element_spec)\n",
    "print(\"Validation Dataset: \")\n",
    "print(val_dataset.element_spec)"
   ]
  },
  {
   "cell_type": "code",
   "execution_count": null,
   "metadata": {
    "scrolled": true
   },
   "outputs": [
    {
     "name": "stdout",
     "output_type": "stream",
     "text": [
      "English Training Example:  tf.Tensor(\n",
      "[[[ 0.          0.          0.         ...  0.          0.\n",
      "    0.        ]\n",
      "  [ 0.          0.          0.         ...  0.          0.\n",
      "    0.        ]\n",
      "  [ 0.          0.          0.         ...  0.          0.\n",
      "    0.        ]\n",
      "  ...\n",
      "  [ 0.14532246 -0.08859951 -0.06054637 ...  0.03215049 -0.13606186\n",
      "    0.09750178]\n",
      "  [ 0.04849293  0.00719573 -0.12629282 ... -0.13178639 -0.14557579\n",
      "   -0.04878096]\n",
      "  [ 0.012986    0.08981702  0.16017003 ...  0.06796802  0.13528903\n",
      "   -0.022035  ]]\n",
      "\n",
      " [[ 0.          0.          0.         ...  0.          0.\n",
      "    0.        ]\n",
      "  [ 0.          0.          0.         ...  0.          0.\n",
      "    0.        ]\n",
      "  [ 0.          0.          0.         ...  0.          0.\n",
      "    0.        ]\n",
      "  ...\n",
      "  [ 0.0927744  -0.02721977 -0.06013793 ... -0.0429398   0.01172086\n",
      "   -0.1628441 ]\n",
      "  [ 0.09180953  0.00573924 -0.00290855 ... -0.11794681  0.07120994\n",
      "   -0.04768806]\n",
      "  [ 0.012986    0.08981702  0.16017003 ...  0.06796802  0.13528903\n",
      "   -0.022035  ]]\n",
      "\n",
      " [[ 0.          0.          0.         ...  0.          0.\n",
      "    0.        ]\n",
      "  [ 0.          0.          0.         ...  0.          0.\n",
      "    0.        ]\n",
      "  [ 0.          0.          0.         ...  0.          0.\n",
      "    0.        ]\n",
      "  ...\n",
      "  [ 0.13561419 -0.0232221   0.02525377 ... -0.04732168  0.07478907\n",
      "   -0.16368614]\n",
      "  [ 0.2578016  -0.05738378  0.03656305 ... -0.04395353 -0.01829955\n",
      "   -0.07252044]\n",
      "  [ 0.012986    0.08981702  0.16017003 ...  0.06796802  0.13528903\n",
      "   -0.022035  ]]\n",
      "\n",
      " ...\n",
      "\n",
      " [[ 0.          0.          0.         ...  0.          0.\n",
      "    0.        ]\n",
      "  [ 0.          0.          0.         ...  0.          0.\n",
      "    0.        ]\n",
      "  [ 0.          0.          0.         ...  0.          0.\n",
      "    0.        ]\n",
      "  ...\n",
      "  [ 0.09178007  0.00941662 -0.07713544 ...  0.08141261 -0.07147948\n",
      "    0.01395206]\n",
      "  [ 0.05838517  0.01658042  0.07407881 ... -0.06764517  0.03599053\n",
      "   -0.07183065]\n",
      "  [ 0.012986    0.08981702  0.16017003 ...  0.06796802  0.13528903\n",
      "   -0.022035  ]]\n",
      "\n",
      " [[ 0.          0.          0.         ...  0.          0.\n",
      "    0.        ]\n",
      "  [ 0.          0.          0.         ...  0.          0.\n",
      "    0.        ]\n",
      "  [ 0.          0.          0.         ...  0.          0.\n",
      "    0.        ]\n",
      "  ...\n",
      "  [ 0.13153145 -0.00597253  0.14733915 ... -0.08174925 -0.10742673\n",
      "   -0.16192299]\n",
      "  [-0.02395841 -0.01596205  0.03717417 ... -0.15661708  0.10793142\n",
      "   -0.15643187]\n",
      "  [ 0.012986    0.08981702  0.16017003 ...  0.06796802  0.13528903\n",
      "   -0.022035  ]]\n",
      "\n",
      " [[ 0.          0.          0.         ...  0.          0.\n",
      "    0.        ]\n",
      "  [ 0.          0.          0.         ...  0.          0.\n",
      "    0.        ]\n",
      "  [ 0.          0.          0.         ...  0.          0.\n",
      "    0.        ]\n",
      "  ...\n",
      "  [ 0.1918812  -0.04742493  0.04069841 ...  0.07060115  0.20286815\n",
      "   -0.12864985]\n",
      "  [ 0.08475536 -0.0175497   0.10450941 ... -0.08552451  0.0354136\n",
      "    0.02467497]\n",
      "  [ 0.012986    0.08981702  0.16017003 ...  0.06796802  0.13528903\n",
      "   -0.022035  ]]], shape=(16, 13, 128), dtype=float32)\n",
      "German Training Example:  tf.Tensor(\n",
      "[[   1   10    6   12   63    3    2    0    0    0    0    0    0    0]\n",
      " [   1   11    6  100    3    2    0    0    0    0    0    0    0    0]\n",
      " [   1    4   15  145   33    3    2    0    0    0    0    0    0    0]\n",
      " [   1    4  404   10    5 5669    3    2    0    0    0    0    0    0]\n",
      " [   1  210    4  124   90    7    2    0    0    0    0    0    0    0]\n",
      " [   1   11    6   19 2064    3    2    0    0    0    0    0    0    0]\n",
      " [   1   11   48   19  170    9    2    0    0    0    0    0    0    0]\n",
      " [   1   10    6 1027    3    2    0    0    0    0    0    0    0    0]\n",
      " [   1   42   59   10  969  509    7    2    0    0    0    0    0    0]\n",
      " [   1  687   77   22    9    2    0    0    0    0    0    0    0    0]\n",
      " [   1   17   81   10  175    3    2    0    0    0    0    0    0    0]\n",
      " [   1   79  211   25   38   13  295    3    2    0    0    0    0    0]\n",
      " [   1   43    6   11    7    2    0    0    0    0    0    0    0    0]\n",
      " [   1   47 1858    6   63    3    2    0    0    0    0    0    0    0]\n",
      " [   1   17  430   78    3    2    0    0    0    0    0    0    0    0]\n",
      " [   1  412   22   36    3    2    0    0    0    0    0    0    0    0]], shape=(16, 14), dtype=int32)\n",
      "English Validation Example:  tf.Tensor(\n",
      "[[[ 0.          0.          0.         ...  0.          0.\n",
      "    0.        ]\n",
      "  [ 0.          0.          0.         ...  0.          0.\n",
      "    0.        ]\n",
      "  [ 0.          0.          0.         ...  0.          0.\n",
      "    0.        ]\n",
      "  ...\n",
      "  [ 0.09836972  0.11588973 -0.01476905 ... -0.10219691  0.03053034\n",
      "    0.03725128]\n",
      "  [ 0.04013233  0.04496015 -0.05517555 ... -0.2091839  -0.00856064\n",
      "    0.13192917]\n",
      "  [ 0.012986    0.08981702  0.16017003 ...  0.06796802  0.13528903\n",
      "   -0.022035  ]]\n",
      "\n",
      " [[ 0.          0.          0.         ...  0.          0.\n",
      "    0.        ]\n",
      "  [ 0.          0.          0.         ...  0.          0.\n",
      "    0.        ]\n",
      "  [ 0.          0.          0.         ...  0.          0.\n",
      "    0.        ]\n",
      "  ...\n",
      "  [ 0.12846488  0.07159402  0.09918732 ... -0.07272145  0.03883429\n",
      "    0.04847484]\n",
      "  [ 0.03099892  0.16812569 -0.16041173 ... -0.11291607  0.09398965\n",
      "   -0.15377244]\n",
      "  [-0.01335301  0.11507112  0.12568313 ...  0.08157409  0.13599715\n",
      "   -0.03076603]]\n",
      "\n",
      " [[ 0.          0.          0.         ...  0.          0.\n",
      "    0.        ]\n",
      "  [ 0.          0.          0.         ...  0.          0.\n",
      "    0.        ]\n",
      "  [ 0.          0.          0.         ...  0.          0.\n",
      "    0.        ]\n",
      "  ...\n",
      "  [ 0.17461029 -0.03164415  0.05087411 ...  0.07268945 -0.07734752\n",
      "   -0.07970746]\n",
      "  [ 0.14619718 -0.06390601  0.07085192 ... -0.10094477 -0.12596662\n",
      "   -0.05089403]\n",
      "  [-0.01335301  0.11507112  0.12568313 ...  0.08157409  0.13599715\n",
      "   -0.03076603]]\n",
      "\n",
      " ...\n",
      "\n",
      " [[ 0.          0.          0.         ...  0.          0.\n",
      "    0.        ]\n",
      "  [ 0.          0.          0.         ...  0.          0.\n",
      "    0.        ]\n",
      "  [ 0.          0.          0.         ...  0.          0.\n",
      "    0.        ]\n",
      "  ...\n",
      "  [ 0.0994442  -0.07407043 -0.00926603 ...  0.00978865 -0.07381978\n",
      "   -0.0295273 ]\n",
      "  [ 0.08631845 -0.11867557  0.04759688 ... -0.08228789  0.03109447\n",
      "    0.11493741]\n",
      "  [ 0.012986    0.08981702  0.16017003 ...  0.06796802  0.13528903\n",
      "   -0.022035  ]]\n",
      "\n",
      " [[ 0.          0.          0.         ...  0.          0.\n",
      "    0.        ]\n",
      "  [ 0.          0.          0.         ...  0.          0.\n",
      "    0.        ]\n",
      "  [ 0.          0.          0.         ...  0.          0.\n",
      "    0.        ]\n",
      "  ...\n",
      "  [ 0.29264432 -0.06904604  0.0754334  ...  0.03079693 -0.02585435\n",
      "    0.0311847 ]\n",
      "  [ 0.08475536 -0.0175497   0.10450941 ... -0.08552451  0.0354136\n",
      "    0.02467497]\n",
      "  [ 0.012986    0.08981702  0.16017003 ...  0.06796802  0.13528903\n",
      "   -0.022035  ]]\n",
      "\n",
      " [[ 0.          0.          0.         ...  0.          0.\n",
      "    0.        ]\n",
      "  [ 0.          0.          0.         ...  0.          0.\n",
      "    0.        ]\n",
      "  [ 0.          0.          0.         ...  0.          0.\n",
      "    0.        ]\n",
      "  ...\n",
      "  [ 0.2000517   0.0272701  -0.03822284 ...  0.1073221  -0.01488957\n",
      "   -0.01846376]\n",
      "  [-0.05038783 -0.00548815 -0.11500055 ... -0.091213    0.05500429\n",
      "   -0.02320919]\n",
      "  [ 0.012986    0.08981702  0.16017003 ...  0.06796802  0.13528903\n",
      "   -0.022035  ]]], shape=(16, 13, 128), dtype=float32)\n",
      "German Training Example:  tf.Tensor(\n",
      "[[   1    5  165  190   20   35    3    2    0    0    0    0    0    0]\n",
      " [   1   83    6   50  482    7    2    0    0    0    0    0    0    0]\n",
      " [   1   38   23  169    7    2    0    0    0    0    0    0    0    0]\n",
      " [   1    5  331    8    3    2    0    0    0    0    0    0    0    0]\n",
      " [   1    5   16   52  826    3    2    0    0    0    0    0    0    0]\n",
      " [   1   99   24  146  152    3    2    0    0    0    0    0    0    0]\n",
      " [   1    5  766   34   19    3    2    0    0    0    0    0    0    0]\n",
      " [   1  389    8  104 2247   36    9    2    0    0    0    0    0    0]\n",
      " [   1   38    6   55    5    7    2    0    0    0    0    0    0    0]\n",
      " [   1    5 1372    3    2    0    0    0    0    0    0    0    0    0]\n",
      " [   1   38   66    5    7    2    0    0    0    0    0    0    0    0]\n",
      " [   1   10    6   71 1323   63    3    2    0    0    0    0    0    0]\n",
      " [   1   17   35  200    3    2    0    0    0    0    0    0    0    0]\n",
      " [   1   27   73 1093    3    2    0    0    0    0    0    0    0    0]\n",
      " [   1 1915    8   21    3    2    0    0    0    0    0    0    0    0]\n",
      " [   1    5    6   19 4513    3    2    0    0    0    0    0    0    0]], shape=(16, 14), dtype=int32)\n"
     ]
    }
   ],
   "source": [
    "for english_train_example, german_train_example in train_dataset.take(1):\n",
    "    print(\"English Training Example: \", english_train_example)\n",
    "    print(\"German Training Example: \", german_train_example)\n",
    "# get the shape for a german sequence example in the validation dataset\n",
    "for english_val_example, german_val_example in val_dataset.take(1):\n",
    "    print(\"English Validation Example: \", english_val_example)\n",
    "    print(\"German Training Example: \",german_val_example)"
   ]
  },
  {
   "cell_type": "markdown",
   "metadata": {},
   "source": [
    "## 3. Create the custom layer\n",
    "You will now create a custom layer to add the learned end token embedding to the encoder model:\n",
    "\n",
    "![Encoder schematic](data/neural_translation_model_encoder.png)"
   ]
  },
  {
   "cell_type": "markdown",
   "metadata": {},
   "source": [
    "You should now build the custom layer.\n",
    "* Using layer subclassing, create a custom layer that takes a batch of English data examples from one of the Datasets, and adds a learned embedded ‘end’ token to the end of each sequence. \n",
    "* This layer should create a TensorFlow Variable (that will be learned during training) that is 128-dimensional (the size of the embedding space). _Hint: you may find it helpful in the call method to use the tf.tile function to replicate the end token embedding across every element in the batch._\n",
    "* Using the Dataset `.take(1)` method, extract a batch of English data examples from the training Dataset and print the shape. Test the custom layer by calling the layer on the English data batch Tensor and print the resulting Tensor shape (the layer should increase the sequence length by one)."
   ]
  },
  {
   "cell_type": "code",
   "execution_count": null,
   "metadata": {},
   "outputs": [],
   "source": [
    "num_tokens = len(tokenizer.word_index) + 1\n",
    "class EndTokenLayer(Layer):\n",
    "    \n",
    "    def __init__(self, embedding_dim=128, **kwargs):\n",
    "        super(EndTokenLayer, self).__init__(**kwargs)\n",
    "        self.embedding_dim = embedding_dim\n",
    "    \n",
    "    def build(self, input_shape):\n",
    "        self.end_token_emb = self.add_weight(shape=(input_shape[-1],), initializer='random_uniform', trainable= True)\n",
    "  \n",
    "    def call(self, inputs):\n",
    "        end_token = tf.tile(tf.reshape(self.end_token_emb, shape=(1, 1, self.end_token_emb.shape[0])), \n",
    "                            [tf.shape(inputs)[0],1,1])\n",
    "    \n",
    "        return tf.keras.layers.concatenate([inputs, end_token], axis=1)"
   ]
  },
  {
   "cell_type": "code",
   "execution_count": null,
   "metadata": {},
   "outputs": [],
   "source": []
  },
  {
   "cell_type": "code",
   "execution_count": null,
   "metadata": {},
   "outputs": [
    {
     "name": "stdout",
     "output_type": "stream",
     "text": [
      "english sentences shape\n",
      "(16, 13, 128)\n"
     ]
    }
   ],
   "source": [
    "endlayer = EndTokenLayer()\n",
    "for english,german in train_dataset.take(1):\n",
    "    temp_layer = endlayer(english)\n",
    "    print(\"english sentences shape\")\n",
    "    print(english.shape) "
   ]
  },
  {
   "cell_type": "code",
   "execution_count": null,
   "metadata": {},
   "outputs": [],
   "source": []
  },
  {
   "cell_type": "markdown",
   "metadata": {},
   "source": [
    "## 4. Build the encoder network\n",
    "The encoder network follows the schematic diagram above. You should now build the RNN encoder model.\n",
    "* Using the functional API, build the encoder network according to the following spec:\n",
    "    * The model will take a batch of sequences of embedded English words as input, as given by the Dataset objects.\n",
    "    * The next layer in the encoder will be the custom layer you created previously, to add a learned end token embedding to the end of the English sequence.\n",
    "    * This is followed by a Masking layer, with the `mask_value` set to the distinct padding value you used when you padded the English sequences with the Dataset preprocessing above.\n",
    "    * The final layer is an LSTM layer with 512 units, which also returns the hidden and cell states.\n",
    "    * The encoder is a multi-output model. There should be two output Tensors of this model: the hidden state and cell states of the LSTM layer. The output of the LSTM layer is unused.\n",
    "* Using the Dataset `.take(1)` method, extract a batch of English data examples from the training Dataset and test the encoder model by calling it on the English data Tensor, and print the shape of the resulting Tensor outputs.\n",
    "* Print the model summary for the encoder network."
   ]
  },
  {
   "cell_type": "code",
   "execution_count": null,
   "metadata": {},
   "outputs": [],
   "source": [
    "def Encoder(input_shape):\n",
    "    inputs = Input([13,input_shape])\n",
    "    etl = EndTokenLayer()(inputs)\n",
    "    mask = Masking([(lambda x: x*0)(x) for x in range(128)])(etl)\n",
    "    lstm , hidden_state, cell_state = LSTM(512, return_sequences=True, return_state=True)(mask)\n",
    "  \n",
    "    model = Model(inputs=inputs, outputs=[hidden_state, cell_state])\n",
    "\n",
    "    return model"
   ]
  },
  {
   "cell_type": "code",
   "execution_count": null,
   "metadata": {},
   "outputs": [
    {
     "name": "stdout",
     "output_type": "stream",
     "text": [
      "Model: \"model\"\n",
      "_________________________________________________________________\n",
      "Layer (type)                 Output Shape              Param #   \n",
      "=================================================================\n",
      "input_1 (InputLayer)         [(None, 13, 128)]         0         \n",
      "_________________________________________________________________\n",
      "end_token_layer_1 (EndTokenL (None, 14, 128)           128       \n",
      "_________________________________________________________________\n",
      "masking (Masking)            (None, 14, 128)           0         \n",
      "_________________________________________________________________\n",
      "lstm (LSTM)                  [(None, 14, 512), (None,  1312768   \n",
      "=================================================================\n",
      "Total params: 1,312,896\n",
      "Trainable params: 1,312,896\n",
      "Non-trainable params: 0\n",
      "_________________________________________________________________\n"
     ]
    }
   ],
   "source": [
    "encoder_model = Encoder(128)\n",
    "encoder_model.summary()"
   ]
  },
  {
   "cell_type": "code",
   "execution_count": null,
   "metadata": {},
   "outputs": [],
   "source": []
  },
  {
   "cell_type": "markdown",
   "metadata": {},
   "source": [
    "## 5. Build the decoder network\n",
    "The decoder network follows the schematic diagram below. \n",
    "\n",
    "![Decoder schematic](data/neural_translation_model_decoder.png)"
   ]
  },
  {
   "cell_type": "markdown",
   "metadata": {},
   "source": [
    "You should now build the RNN decoder model.\n",
    "* Using Model subclassing, build the decoder network according to the following spec:\n",
    "    * The initializer should create the following layers:\n",
    "        * An Embedding layer with vocabulary size set to the number of unique German tokens, embedding dimension 128, and set to mask zero values in the input.\n",
    "        * An LSTM layer with 512 units, that returns its hidden and cell states, and also returns sequences.\n",
    "        * A Dense layer with number of units equal to the number of unique German tokens, and no activation function.\n",
    "    * The call method should include the usual `inputs` argument, as well as the additional keyword arguments `hidden_state` and `cell_state`. The default value for these keyword arguments should be `None`.\n",
    "    * The call method should pass the inputs through the Embedding layer, and then through the LSTM layer. If the `hidden_state` and `cell_state` arguments are provided, these should be used for the initial state of the LSTM layer. _Hint: use the_ `initial_state` _keyword argument when calling the LSTM layer on its input._\n",
    "    * The call method should pass the LSTM output sequence through the Dense layer, and return the resulting Tensor, along with the hidden and cell states of the LSTM layer.\n",
    "* Using the Dataset `.take(1)` method, extract a batch of English and German data examples from the training Dataset. Test the decoder model by first calling the encoder model on the English data Tensor to get the hidden and cell states, and then call the decoder model on the German data Tensor and hidden and cell states, and print the shape of the resulting decoder Tensor outputs.\n",
    "* Print the model summary for the decoder network."
   ]
  },
  {
   "cell_type": "code",
   "execution_count": null,
   "metadata": {},
   "outputs": [],
   "source": [
    "num_tokens = len(tokenizer.word_index) + 1"
   ]
  },
  {
   "cell_type": "code",
   "execution_count": null,
   "metadata": {},
   "outputs": [],
   "source": [
    "class DecoderModel(Model):\n",
    "    def __init__(self,initial_state=True,**kwargs):\n",
    "        super(DecoderModel, self).__init__(**kwargs)\n",
    "        self.embedding = Embedding(input_dim = num_tokens,output_dim = 128,mask_zero = True)\n",
    "        self.lstm = LSTM(512, return_sequences=True, return_state=True)\n",
    "        self.dense = Dense(num_tokens)\n",
    "        self.initial_state = initial_state\n",
    "\n",
    "    def call(self,inputs,hidden_state = None,cell_state = None):\n",
    "        h = self.embedding(inputs)\n",
    "    \n",
    "        lstm,hidden_1,cell_1 = self.lstm(h,initial_state = [hidden_state,cell_state])        \n",
    "        h = self.dense(lstm)\n",
    "    \n",
    "        return h,hidden_1,cell_1"
   ]
  },
  {
   "cell_type": "code",
   "execution_count": null,
   "metadata": {},
   "outputs": [],
   "source": [
    "decoder_model = DecoderModel()"
   ]
  },
  {
   "cell_type": "code",
   "execution_count": null,
   "metadata": {},
   "outputs": [
    {
     "name": "stdout",
     "output_type": "stream",
     "text": [
      "output.shape: (16, 14, 5744)\n",
      "hidden.shape: (16, 512)\n",
      "cell_state.shape: (16, 512)\n",
      "Model: \"decoder_model_1\"\n",
      "_________________________________________________________________\n",
      "Layer (type)                 Output Shape              Param #   \n",
      "=================================================================\n",
      "embedding_1 (Embedding)      multiple                  735232    \n",
      "_________________________________________________________________\n",
      "lstm_2 (LSTM)                multiple                  1312768   \n",
      "_________________________________________________________________\n",
      "dense_1 (Dense)              multiple                  2946672   \n",
      "=================================================================\n",
      "Total params: 4,994,672\n",
      "Trainable params: 4,994,672\n",
      "Non-trainable params: 0\n",
      "_________________________________________________________________\n"
     ]
    }
   ],
   "source": [
    "#or english,german in train_dataset.take(1):\n",
    "#    temp,hidden_1,cell_1 = decoder_model(german)\n",
    "#print(\"decoder output shape:\")\n",
    "#print(tf.shape(temp))\n",
    "#print(\"hidden state shape:\")\n",
    "#print(tf.shape(hidden_1))\n",
    "#print(\"cell state shape:\")\n",
    "#print(tf.shape(cell_1))\n",
    "\n",
    "decoder_model = DecoderModel()\n",
    "# test the decoder model \n",
    "for english, german in train_dataset.take(1):\n",
    "    hidden, cell_state = encoder_model(english)\n",
    "    output, hidden, cell_state = decoder_model(german, hidden, cell_state)\n",
    "    print(f\"output.shape: {output.shape}\")\n",
    "    print(f\"hidden.shape: {hidden.shape}\")\n",
    "    print(f\"cell_state.shape: {cell_state.shape}\")\n",
    "\n",
    "# model summary \n",
    "decoder_model.summary()"
   ]
  },
  {
   "cell_type": "markdown",
   "metadata": {},
   "source": [
    "## 6. Make a custom training loop\n",
    "You should now write a custom training loop to train your custom neural translation model.\n",
    "* Define a function that takes a Tensor batch of German data (as extracted from the training Dataset), and returns a tuple containing German inputs and outputs for the decoder model (refer to schematic diagram above).\n",
    "* Define a function that computes the forward and backward pass for your translation model. This function should take an English input, German input and German output as arguments, and should do the following:\n",
    "    * Pass the English input into the encoder, to get the hidden and cell states of the encoder LSTM.\n",
    "    * These hidden and cell states are then passed into the decoder, along with the German inputs, which returns a sequence of outputs (the hidden and cell state outputs of the decoder LSTM are unused in this function).\n",
    "    * The loss should then be computed between the decoder outputs and the German output function argument.\n",
    "    * The function returns the loss and gradients with respect to the encoder and decoder’s trainable variables.\n",
    "    * Decorate the function with @tf.function\n",
    "* Define and run a custom training loop for a number of epochs (for you to choose) that does the following:\n",
    "    * Iterates through the training dataset, and creates decoder inputs and outputs from the German sequences.\n",
    "    * Updates the parameters of the translation model using the gradients of the function above and an optimizer object.\n",
    "    * Every epoch, compute the validation loss on a number of batches from the validation and save the epoch training and validation losses.\n",
    "* Plot the learning curves for loss vs epoch for both training and validation sets.\n",
    "\n",
    "_Hint: This model is computationally demanding to train. The quality of the model or length of training is not a factor in the grading rubric. However, to obtain a better model we recommend using the GPU accelerator hardware on Colab._"
   ]
  },
  {
   "cell_type": "code",
   "execution_count": null,
   "metadata": {},
   "outputs": [],
   "source": [
    "def german_data(german_data):\n",
    "#    input_data = german_data[:,0:tf.shape(german_data)[1]-1]\n",
    "#    output_data = german_data[:,1:tf.shape(german_data)[1]]\n",
    "    input_data = german_data[:, :-1]\n",
    "    output_data = german_data[:, 1:]\n",
    "\n",
    "    return input_data, output_data\n"
   ]
  },
  {
   "cell_type": "code",
   "execution_count": null,
   "metadata": {},
   "outputs": [],
   "source": [
    "loss = tf.keras.losses.SparseCategoricalCrossentropy(from_logits = True)\n",
    "optimizer = tf.keras.optimizers.Adam(learning_rate=0.001)"
   ]
  },
  {
   "cell_type": "code",
   "execution_count": null,
   "metadata": {},
   "outputs": [],
   "source": [
    "@tf.function\n",
    "def grad_fn(english, german_input, german_output, loss):\n",
    "    with tf.GradientTape() as tape:\n",
    "        hidden, cell_state = encoder_model(english)\n",
    "        german_from_model, hidden, cell_state = decoder_model(german_input, hidden, cell_state)\n",
    "        \n",
    "        loss = tf.math.reduce_mean(loss(german_output, german_from_model))\n",
    "    \n",
    "        grad_encoder, grad_decoder = tape.gradient(loss, [encoder_model.trainable_variables,\n",
    "                                                      decoder_model.trainable_variables])        \n",
    "        \n",
    "        return loss, grad_encoder, grad_decoder"
   ]
  },
  {
   "cell_type": "code",
   "execution_count": null,
   "metadata": {},
   "outputs": [
    {
     "name": "stdout",
     "output_type": "stream",
     "text": [
      "tf.Tensor(8.656017, shape=(), dtype=float32)\n",
      "tf.Tensor(8.6417, shape=(), dtype=float32)\n",
      "tf.Tensor(8.623888, shape=(), dtype=float32)\n",
      "tf.Tensor(8.59469, shape=(), dtype=float32)\n",
      "tf.Tensor(8.531662, shape=(), dtype=float32)\n",
      "tf.Tensor(8.44398, shape=(), dtype=float32)\n",
      "tf.Tensor(8.140308, shape=(), dtype=float32)\n",
      "tf.Tensor(7.5355124, shape=(), dtype=float32)\n",
      "tf.Tensor(6.3403416, shape=(), dtype=float32)\n",
      "tf.Tensor(5.1943107, shape=(), dtype=float32)\n",
      "tf.Tensor(3.829519, shape=(), dtype=float32)\n",
      "tf.Tensor(3.4167705, shape=(), dtype=float32)\n",
      "tf.Tensor(3.0955012, shape=(), dtype=float32)\n",
      "tf.Tensor(3.541086, shape=(), dtype=float32)\n",
      "tf.Tensor(2.8554387, shape=(), dtype=float32)\n",
      "tf.Tensor(3.1895802, shape=(), dtype=float32)\n",
      "tf.Tensor(2.7460573, shape=(), dtype=float32)\n",
      "tf.Tensor(3.0485752, shape=(), dtype=float32)\n",
      "tf.Tensor(2.9542668, shape=(), dtype=float32)\n",
      "tf.Tensor(3.3914897, shape=(), dtype=float32)\n",
      "tf.Tensor(3.3918774, shape=(), dtype=float32)\n",
      "tf.Tensor(2.866859, shape=(), dtype=float32)\n",
      "tf.Tensor(2.9703777, shape=(), dtype=float32)\n",
      "tf.Tensor(2.6908147, shape=(), dtype=float32)\n",
      "tf.Tensor(2.947716, shape=(), dtype=float32)\n",
      "tf.Tensor(2.5662208, shape=(), dtype=float32)\n",
      "tf.Tensor(2.4405682, shape=(), dtype=float32)\n",
      "tf.Tensor(2.6825457, shape=(), dtype=float32)\n",
      "tf.Tensor(2.4923387, shape=(), dtype=float32)\n",
      "tf.Tensor(2.4393923, shape=(), dtype=float32)\n",
      "tf.Tensor(2.4695907, shape=(), dtype=float32)\n",
      "tf.Tensor(2.842016, shape=(), dtype=float32)\n",
      "tf.Tensor(2.4620862, shape=(), dtype=float32)\n",
      "tf.Tensor(2.5406358, shape=(), dtype=float32)\n",
      "tf.Tensor(2.3955145, shape=(), dtype=float32)\n",
      "tf.Tensor(2.3644238, shape=(), dtype=float32)\n",
      "tf.Tensor(2.280208, shape=(), dtype=float32)\n",
      "tf.Tensor(2.797254, shape=(), dtype=float32)\n",
      "tf.Tensor(2.349487, shape=(), dtype=float32)\n",
      "tf.Tensor(2.2821922, shape=(), dtype=float32)\n",
      "tf.Tensor(2.3918653, shape=(), dtype=float32)\n",
      "tf.Tensor(2.410976, shape=(), dtype=float32)\n",
      "tf.Tensor(2.3331847, shape=(), dtype=float32)\n",
      "tf.Tensor(2.6028748, shape=(), dtype=float32)\n",
      "tf.Tensor(2.3472545, shape=(), dtype=float32)\n",
      "tf.Tensor(2.16427, shape=(), dtype=float32)\n",
      "tf.Tensor(2.3761578, shape=(), dtype=float32)\n",
      "tf.Tensor(2.2043583, shape=(), dtype=float32)\n",
      "tf.Tensor(2.393777, shape=(), dtype=float32)\n",
      "tf.Tensor(2.3911862, shape=(), dtype=float32)\n",
      "tf.Tensor(2.1728797, shape=(), dtype=float32)\n",
      "tf.Tensor(2.1730914, shape=(), dtype=float32)\n",
      "tf.Tensor(2.1779246, shape=(), dtype=float32)\n",
      "tf.Tensor(2.3657885, shape=(), dtype=float32)\n",
      "tf.Tensor(1.9909928, shape=(), dtype=float32)\n",
      "tf.Tensor(2.3715215, shape=(), dtype=float32)\n",
      "tf.Tensor(2.3827899, shape=(), dtype=float32)\n",
      "tf.Tensor(2.5362735, shape=(), dtype=float32)\n",
      "tf.Tensor(2.2815983, shape=(), dtype=float32)\n",
      "tf.Tensor(2.7721555, shape=(), dtype=float32)\n",
      "tf.Tensor(2.075501, shape=(), dtype=float32)\n",
      "tf.Tensor(2.4018226, shape=(), dtype=float32)\n",
      "tf.Tensor(2.388306, shape=(), dtype=float32)\n",
      "tf.Tensor(2.442893, shape=(), dtype=float32)\n",
      "tf.Tensor(2.3994648, shape=(), dtype=float32)\n",
      "tf.Tensor(2.019215, shape=(), dtype=float32)\n",
      "tf.Tensor(2.1086135, shape=(), dtype=float32)\n",
      "tf.Tensor(2.4582102, shape=(), dtype=float32)\n",
      "tf.Tensor(2.1335173, shape=(), dtype=float32)\n",
      "tf.Tensor(2.3222308, shape=(), dtype=float32)\n",
      "tf.Tensor(2.2767668, shape=(), dtype=float32)\n",
      "tf.Tensor(2.2072437, shape=(), dtype=float32)\n",
      "tf.Tensor(1.9846854, shape=(), dtype=float32)\n",
      "tf.Tensor(2.1176133, shape=(), dtype=float32)\n",
      "tf.Tensor(2.3414328, shape=(), dtype=float32)\n",
      "tf.Tensor(2.2119358, shape=(), dtype=float32)\n",
      "tf.Tensor(1.8779393, shape=(), dtype=float32)\n",
      "tf.Tensor(2.1177847, shape=(), dtype=float32)\n",
      "tf.Tensor(2.0933218, shape=(), dtype=float32)\n",
      "tf.Tensor(2.0466592, shape=(), dtype=float32)\n",
      "tf.Tensor(2.2004924, shape=(), dtype=float32)\n",
      "tf.Tensor(1.8692813, shape=(), dtype=float32)\n",
      "tf.Tensor(2.031631, shape=(), dtype=float32)\n",
      "tf.Tensor(2.266899, shape=(), dtype=float32)\n",
      "tf.Tensor(1.8902915, shape=(), dtype=float32)\n",
      "tf.Tensor(2.0207977, shape=(), dtype=float32)\n",
      "tf.Tensor(1.9981371, shape=(), dtype=float32)\n",
      "tf.Tensor(2.2180123, shape=(), dtype=float32)\n",
      "tf.Tensor(1.9599221, shape=(), dtype=float32)\n",
      "tf.Tensor(1.8458487, shape=(), dtype=float32)\n",
      "tf.Tensor(2.0809984, shape=(), dtype=float32)\n",
      "tf.Tensor(2.0650744, shape=(), dtype=float32)\n",
      "tf.Tensor(2.4113016, shape=(), dtype=float32)\n",
      "tf.Tensor(2.1055632, shape=(), dtype=float32)\n",
      "tf.Tensor(2.0915334, shape=(), dtype=float32)\n",
      "tf.Tensor(1.9171847, shape=(), dtype=float32)\n",
      "tf.Tensor(2.218319, shape=(), dtype=float32)\n",
      "tf.Tensor(1.9951025, shape=(), dtype=float32)\n",
      "tf.Tensor(2.1745431, shape=(), dtype=float32)\n",
      "tf.Tensor(2.4648135, shape=(), dtype=float32)\n",
      "tf.Tensor(1.8558714, shape=(), dtype=float32)\n",
      "tf.Tensor(1.9306133, shape=(), dtype=float32)\n",
      "tf.Tensor(1.987766, shape=(), dtype=float32)\n",
      "tf.Tensor(1.8040655, shape=(), dtype=float32)\n",
      "tf.Tensor(1.962837, shape=(), dtype=float32)\n",
      "tf.Tensor(2.2623181, shape=(), dtype=float32)\n",
      "tf.Tensor(2.0369081, shape=(), dtype=float32)\n"
     ]
    }
   ],
   "source": [
    "num_epochs = 3\n",
    "epoch_train_loss = []\n",
    "epoch_val_loss = []\n",
    "\n",
    "for epoch in range(num_epochs):\n",
    "    train_loss = tf.keras.metrics.Mean()\n",
    "    val_loss = tf.keras.metrics.Mean()\n",
    "\n",
    "    #training loop \n",
    "    for english, german in train_dataset:\n",
    "        # create the german input and output \n",
    "        german_in, german_out = german_data(german)\n",
    "        \n",
    "        #optimize the model\n",
    "        loss_value, grad_encoder, grad_decoder = grad_fn(english, german_in, german_out, loss)\n",
    "        optimizer.apply_gradients(zip(grad_encoder, encoder_model.trainable_variables))\n",
    "        optimizer.apply_gradients(zip(grad_decoder, decoder_model.trainable_variables))\n",
    "    \n",
    "        #compute current loss\n",
    "        train_loss(loss_value)\n",
    "        \n",
    "    epoch_train_loss.append(train_loss.result())\n",
    "\n",
    "    #validation loop\n",
    "    for english, german in val_dataset:\n",
    "        # create the german input and output \n",
    "        german_in, german_out = german_data(german)\n",
    "    \n",
    "        # put it through the model\n",
    "        hidden, cell_state = encoder_model(english)\n",
    "        german_from_model, hidden, cell_state = decoder_model(german_in, hidden, cell_state)\n",
    "        \n",
    "        loss = tf.keras.losses.sparse_categorical_crossentropy(german_out, \n",
    "                                                           german_from_model,\n",
    "                                                           from_logits=True)\n",
    "        val_loss(loss)\n",
    "    \n",
    "    epoch_val_loss.append(val_loss.result())\n",
    "    \n",
    "    print(f\"Epoch {epoch};\\t Loss train {epoch_train_loss[-1]};\\tLoss val {epoch_val_loss[-1]}\")"
   ]
  },
  {
   "cell_type": "code",
   "execution_count": null,
   "metadata": {},
   "outputs": [],
   "source": []
  },
  {
   "cell_type": "code",
   "execution_count": null,
   "metadata": {},
   "outputs": [],
   "source": []
  },
  {
   "cell_type": "markdown",
   "metadata": {},
   "source": [
    "## 7. Use the model to translate\n",
    "Now it's time to put your model into practice! You should run your translation for five randomly sampled English sentences from the dataset. For each sentence, the process is as follows:\n",
    "* Preprocess and embed the English sentence according to the model requirements.\n",
    "* Pass the embedded sentence through the encoder to get the encoder hidden and cell states.\n",
    "* Starting with the special  `\"<start>\"` token, use this token and the final encoder hidden and cell states to get the one-step prediction from the decoder, as well as the decoder’s updated hidden and cell states.\n",
    "* Create a loop to get the next step prediction and updated hidden and cell states from the decoder, using the most recent hidden and cell states. Terminate the loop when the `\"<end>\"` token is emitted, or when the sentence has reached a maximum length.\n",
    "* Decode the output token sequence into German text and print the English text and the model's German translation."
   ]
  },
  {
   "cell_type": "code",
   "execution_count": null,
   "metadata": {},
   "outputs": [],
   "source": []
  },
  {
   "cell_type": "code",
   "execution_count": null,
   "metadata": {},
   "outputs": [],
   "source": []
  },
  {
   "cell_type": "code",
   "execution_count": null,
   "metadata": {},
   "outputs": [],
   "source": []
  }
 ],
 "metadata": {
  "kernelspec": {
   "display_name": "Python 3",
   "language": "python",
   "name": "python3"
  },
  "language_info": {
   "codemirror_mode": {
    "name": "ipython",
    "version": 3
   },
   "file_extension": ".py",
   "mimetype": "text/x-python",
   "name": "python",
   "nbconvert_exporter": "python",
   "pygments_lexer": "ipython3",
   "version": "3.7.1"
  }
 },
 "nbformat": 4,
 "nbformat_minor": 2
}
